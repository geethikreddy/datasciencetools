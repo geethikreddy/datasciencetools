{
 "cells": [
  {
   "cell_type": "markdown",
   "id": "7be1678f",
   "metadata": {},
   "source": [
    "# Data Science Tools and Ecosystem"
   ]
  },
  {
   "cell_type": "markdown",
   "id": "f69bd564",
   "metadata": {},
   "source": [
    "In this notebook, Data Science Tools and Ecosystem are summarized."
   ]
  },
  {
   "cell_type": "markdown",
   "id": "e7646455",
   "metadata": {},
   "source": [
    "###### Objectives:\n",
    "\n",
    "<ul>\n",
    "    <li>Popular languages in Data Science are python,R,Scala</li>\n",
    "    <li>Machine Learning models are of 3 types</li>\n",
    "    <li>Github is an online hosting service for Git Repositories</li>\n",
    "    </ul>"
   ]
  },
  {
   "cell_type": "markdown",
   "id": "0611f4cc",
   "metadata": {},
   "source": [
    "Some of the popular languages that Data Scientists use are:\n",
    "1. Python\n",
    "2. R\n",
    "3. Scala"
   ]
  },
  {
   "cell_type": "markdown",
   "id": "14dbc602",
   "metadata": {},
   "source": [
    "Some of the commonly used libraries used by Data Scientists include:\n",
    "\n",
    "1. pandas\n",
    "2. matplotlib\n",
    "3. scikit-learn"
   ]
  },
  {
   "cell_type": "markdown",
   "id": "ba4a981a",
   "metadata": {},
   "source": [
    "|Data Science Tool|\n",
    "|-----------------|\n",
    "|Jupyter|\n",
    "|VS Code|\n",
    "|Spyder|"
   ]
  },
  {
   "cell_type": "markdown",
   "id": "af1cc042",
   "metadata": {},
   "source": [
    "### Below are a few examples of evaluating arithmetic expressions in Python"
   ]
  },
  {
   "cell_type": "code",
   "execution_count": 1,
   "id": "5ad4b322",
   "metadata": {},
   "outputs": [
    {
     "data": {
      "text/plain": [
       "17"
      ]
     },
     "execution_count": 1,
     "metadata": {},
     "output_type": "execute_result"
    }
   ],
   "source": [
    "### This a simple arithmetic expression to mutiply then add integers\n",
    "(3*4)+5"
   ]
  },
  {
   "cell_type": "code",
   "execution_count": 10,
   "id": "44085f33",
   "metadata": {},
   "outputs": [
    {
     "name": "stdout",
     "output_type": "stream",
     "text": [
      "3.00\n"
     ]
    }
   ],
   "source": [
    "### This will convert 200 minutes to hours by diving by 60\n",
    "\n",
    "a=200//60\n",
    "print('%.2f' % a)"
   ]
  },
  {
   "cell_type": "markdown",
   "id": "c63d1a3f",
   "metadata": {},
   "source": [
    "## Author\n",
    "Geethik"
   ]
  },
  {
   "cell_type": "code",
   "execution_count": null,
   "id": "d2d31db2",
   "metadata": {},
   "outputs": [],
   "source": []
  }
 ],
 "metadata": {
  "kernelspec": {
   "display_name": "Python 3 (ipykernel)",
   "language": "python",
   "name": "python3"
  },
  "language_info": {
   "codemirror_mode": {
    "name": "ipython",
    "version": 3
   },
   "file_extension": ".py",
   "mimetype": "text/x-python",
   "name": "python",
   "nbconvert_exporter": "python",
   "pygments_lexer": "ipython3",
   "version": "3.9.13"
  }
 },
 "nbformat": 4,
 "nbformat_minor": 5
}
